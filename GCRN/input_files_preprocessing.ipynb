{
 "cells": [
  {
   "cell_type": "code",
   "execution_count": null,
   "id": "d3ad034a",
   "metadata": {},
   "outputs": [],
   "source": [
    "!ls"
   ]
  },
  {
   "cell_type": "code",
   "execution_count": null,
   "id": "b0c363e3",
   "metadata": {},
   "outputs": [],
   "source": [
    "import pandas as pd\n",
    "import numpy as np"
   ]
  },
  {
   "cell_type": "markdown",
   "id": "a9e36d7d",
   "metadata": {},
   "source": [
    "## Create key 'node_ids'"
   ]
  },
  {
   "cell_type": "code",
   "execution_count": null,
   "id": "a1933723",
   "metadata": {},
   "outputs": [],
   "source": [
    "df_file_1_mapping=pd.read_csv('file_1_mapping_new.csv')\n",
    "df_file_1_mapping"
   ]
  },
  {
   "cell_type": "code",
   "execution_count": null,
   "id": "279a70cb",
   "metadata": {},
   "outputs": [],
   "source": [
    "df_file_1_mapping.info()"
   ]
  },
  {
   "cell_type": "code",
   "execution_count": null,
   "id": "e539958b",
   "metadata": {
    "scrolled": false
   },
   "outputs": [],
   "source": [
    "# replace NaN values with an empty string\n",
    "df_file_1_mapping=df_file_1_mapping.fillna('')\n",
    "df_file_1_mapping"
   ]
  },
  {
   "cell_type": "code",
   "execution_count": null,
   "id": "b28b098f",
   "metadata": {},
   "outputs": [],
   "source": [
    "df_file_1_mapping.info()"
   ]
  },
  {
   "cell_type": "code",
   "execution_count": null,
   "id": "6f3416f0",
   "metadata": {},
   "outputs": [],
   "source": [
    "# use agg() to concat 'fac_no', 'code_no', 'fac_type', 'fac_name' columns\n",
    "df_file_1_mapping['unique_key']=df_file_1_mapping[['fac_no', 'code_no', 'fac_type', 'fac_name']].agg('_'.join, axis=1)\n",
    "df_file_1_mapping"
   ]
  },
  {
   "cell_type": "code",
   "execution_count": null,
   "id": "22d8e655",
   "metadata": {},
   "outputs": [],
   "source": [
    "df_file_1_mapping=df_file_1_mapping.drop(['fac_no', 'code_no', 'fac_type', 'fac_name'], axis=1)\n",
    "df_file_1_mapping"
   ]
  },
  {
   "cell_type": "code",
   "execution_count": null,
   "id": "b4cef92a",
   "metadata": {},
   "outputs": [],
   "source": [
    "# export to csv\n",
    "# index_label: column label for index column(s) if desired\n",
    "df_file_1_mapping.to_csv('nodeidx2uniquekey.csv', index_label='node_idx')"
   ]
  },
  {
   "cell_type": "code",
   "execution_count": null,
   "id": "678c47ec",
   "metadata": {},
   "outputs": [],
   "source": [
    "node_ids={}\n",
    "\n",
    "for i in range(546):\n",
    "    key=df_file_1_mapping.iloc[[i], [0]].values\n",
    "    node_ids[key[0][0]]=i"
   ]
  },
  {
   "cell_type": "code",
   "execution_count": null,
   "id": "572445ec",
   "metadata": {
    "scrolled": true
   },
   "outputs": [],
   "source": [
    "node_ids"
   ]
  },
  {
   "cell_type": "markdown",
   "id": "b97bb2a9",
   "metadata": {},
   "source": [
    "## Create keys '0' to '167'"
   ]
  },
  {
   "cell_type": "markdown",
   "id": "ee0878bc",
   "metadata": {},
   "source": [
    "### Create key 'edges'"
   ]
  },
  {
   "cell_type": "code",
   "execution_count": null,
   "id": "4eb63665",
   "metadata": {},
   "outputs": [],
   "source": [
    "df_file_2_edge=pd.read_csv('file_2_edge_new.csv')\n",
    "df_file_2_edge"
   ]
  },
  {
   "cell_type": "code",
   "execution_count": null,
   "id": "2ca911f5",
   "metadata": {},
   "outputs": [],
   "source": [
    "df_file_2_edge=df_file_2_edge[['fac_no1', 'code_no1', 'fac_type1', 'fac_name1', 'fac_no2', 'code_no2', 'fac_type2', 'fac_name2']]\n",
    "df_file_2_edge"
   ]
  },
  {
   "cell_type": "code",
   "execution_count": null,
   "id": "38d46b1d",
   "metadata": {},
   "outputs": [],
   "source": [
    "df_file_2_edge.info() # 1 null value in 'fac_no1', 3 null values in 'fac_no2'"
   ]
  },
  {
   "cell_type": "code",
   "execution_count": null,
   "id": "afa7cc19",
   "metadata": {},
   "outputs": [],
   "source": [
    "# replace NaN values with an empty string\n",
    "df_file_2_edge=df_file_2_edge.fillna('')\n",
    "df_file_2_edge"
   ]
  },
  {
   "cell_type": "code",
   "execution_count": null,
   "id": "655b5b27",
   "metadata": {},
   "outputs": [],
   "source": [
    "df_file_2_edge.info()"
   ]
  },
  {
   "cell_type": "code",
   "execution_count": null,
   "id": "b106d8a8",
   "metadata": {},
   "outputs": [],
   "source": [
    "# use agg() to concat 'fac_no1', 'code_no1', 'fac_type1', 'fac_name1' columns\n",
    "df_file_2_edge['unique_key1']=df_file_2_edge[['fac_no1', 'code_no1', 'fac_type1', 'fac_name1']].agg('_'.join, axis=1)\n",
    "df_file_2_edge"
   ]
  },
  {
   "cell_type": "code",
   "execution_count": null,
   "id": "32e863fe",
   "metadata": {},
   "outputs": [],
   "source": [
    "# use agg() to concat 'fac_no2', 'code_no2', 'fac_type2', 'fac_name2' columns\n",
    "df_file_2_edge['unique_key2']=df_file_2_edge[['fac_no2', 'code_no2', 'fac_type2', 'fac_name2']].agg('_'.join, axis=1)\n",
    "df_file_2_edge"
   ]
  },
  {
   "cell_type": "code",
   "execution_count": null,
   "id": "a37b610f",
   "metadata": {},
   "outputs": [],
   "source": [
    "df_file_2_edge=df_file_2_edge[['unique_key1', 'unique_key2']]\n",
    "df_file_2_edge"
   ]
  },
  {
   "cell_type": "code",
   "execution_count": null,
   "id": "e3da66e3",
   "metadata": {},
   "outputs": [],
   "source": [
    "!ls"
   ]
  },
  {
   "cell_type": "code",
   "execution_count": null,
   "id": "f487d136",
   "metadata": {},
   "outputs": [],
   "source": [
    "df_idx=pd.read_csv('nodeidx2uniquekey.csv')\n",
    "df_idx"
   ]
  },
  {
   "cell_type": "code",
   "execution_count": null,
   "id": "6ecfdf72",
   "metadata": {},
   "outputs": [],
   "source": [
    "# find node_idx1 for unique_key1\n",
    "df_file_2_edge=pd.merge(df_file_2_edge, df_idx, how='left', left_on='unique_key1', right_on='unique_key')\n",
    "df_file_2_edge"
   ]
  },
  {
   "cell_type": "code",
   "execution_count": null,
   "id": "77c31c74",
   "metadata": {},
   "outputs": [],
   "source": [
    "df_file_2_edge=df_file_2_edge[['unique_key1', 'unique_key2', 'node_idx']]\n",
    "df_file_2_edge"
   ]
  },
  {
   "cell_type": "code",
   "execution_count": null,
   "id": "d6ba8c7f",
   "metadata": {},
   "outputs": [],
   "source": [
    "df_file_2_edge.info()"
   ]
  },
  {
   "cell_type": "code",
   "execution_count": null,
   "id": "16041ec1",
   "metadata": {},
   "outputs": [],
   "source": [
    "# find node_idx2 for unique_key2\n",
    "df_file_2_edge=pd.merge(df_file_2_edge, df_idx, how='left', left_on='unique_key2', right_on='unique_key')\n",
    "df_file_2_edge"
   ]
  },
  {
   "cell_type": "code",
   "execution_count": null,
   "id": "48ad15cf",
   "metadata": {},
   "outputs": [],
   "source": [
    "df_file_2_edge.info()"
   ]
  },
  {
   "cell_type": "code",
   "execution_count": null,
   "id": "fc071167",
   "metadata": {},
   "outputs": [],
   "source": [
    "df_file_2_edge=df_file_2_edge[['node_idx_x', 'node_idx_y']]\n",
    "df_file_2_edge"
   ]
  },
  {
   "cell_type": "code",
   "execution_count": null,
   "id": "22776afd",
   "metadata": {},
   "outputs": [],
   "source": [
    "edges=df_file_2_edge.values\n",
    "edges"
   ]
  },
  {
   "cell_type": "code",
   "execution_count": null,
   "id": "a13656dc",
   "metadata": {},
   "outputs": [],
   "source": [
    "edges.shape"
   ]
  },
  {
   "cell_type": "markdown",
   "id": "2e3e2875",
   "metadata": {},
   "source": [
    "### Create key 'weights'"
   ]
  },
  {
   "cell_type": "code",
   "execution_count": null,
   "id": "6d995ab8",
   "metadata": {},
   "outputs": [],
   "source": [
    "!ls"
   ]
  },
  {
   "cell_type": "code",
   "execution_count": null,
   "id": "b5beac2f",
   "metadata": {},
   "outputs": [],
   "source": [
    "df_file_2_weight=pd.read_csv('file_2_edge_new.csv')\n",
    "df_file_2_weight"
   ]
  },
  {
   "cell_type": "code",
   "execution_count": null,
   "id": "c8aab4d8",
   "metadata": {},
   "outputs": [],
   "source": [
    "df_file_2_weight=df_file_2_weight.drop(['fac_no1', 'code_no1', 'fac_type1', 'fac_name1', 'fac_no2', 'code_no2', 'fac_type2', 'fac_name2'], axis=1)\n",
    "df_file_2_weight"
   ]
  },
  {
   "cell_type": "code",
   "execution_count": null,
   "id": "76b1942b",
   "metadata": {},
   "outputs": [],
   "source": [
    "# replace NaN values with 0\n",
    "df_file_2_weight=df_file_2_weight.fillna(0)\n",
    "df_file_2_weight"
   ]
  },
  {
   "cell_type": "markdown",
   "id": "37e636b6",
   "metadata": {},
   "source": [
    "df_file_2_weight.info(verbose=True, show_counts=True)"
   ]
  },
  {
   "cell_type": "code",
   "execution_count": null,
   "id": "d7c5c77f",
   "metadata": {},
   "outputs": [],
   "source": [
    "weights=np.transpose(df_file_2_weight.values)\n",
    "weights"
   ]
  },
  {
   "cell_type": "code",
   "execution_count": null,
   "id": "4efb996c",
   "metadata": {},
   "outputs": [],
   "source": [
    "weights.shape"
   ]
  },
  {
   "cell_type": "code",
   "execution_count": null,
   "id": "ea5983b5",
   "metadata": {},
   "outputs": [],
   "source": [
    "len(weights[0])"
   ]
  },
  {
   "cell_type": "markdown",
   "id": "a9aa54b1",
   "metadata": {},
   "source": [
    "### Create key 'y'"
   ]
  },
  {
   "cell_type": "code",
   "execution_count": null,
   "id": "f0ff2734",
   "metadata": {},
   "outputs": [],
   "source": [
    "!ls"
   ]
  },
  {
   "cell_type": "code",
   "execution_count": null,
   "id": "fad02e04",
   "metadata": {},
   "outputs": [],
   "source": [
    "df_node_label=pd.read_csv('node-label.csv', header=None)\n",
    "df_node_label"
   ]
  },
  {
   "cell_type": "code",
   "execution_count": null,
   "id": "626c4c5e",
   "metadata": {},
   "outputs": [],
   "source": [
    "label=df_node_label.values\n",
    "label"
   ]
  },
  {
   "cell_type": "code",
   "execution_count": null,
   "id": "e690393b",
   "metadata": {},
   "outputs": [],
   "source": [
    "label=label.flatten()\n",
    "label"
   ]
  },
  {
   "cell_type": "code",
   "execution_count": null,
   "id": "5a5d3f90",
   "metadata": {},
   "outputs": [],
   "source": [
    "len(label)"
   ]
  },
  {
   "cell_type": "code",
   "execution_count": null,
   "id": "869cf83f",
   "metadata": {},
   "outputs": [],
   "source": [
    "y=[]\n",
    "\n",
    "for i in range(168): # 168 time periods\n",
    "    gt=[]\n",
    "    for j in range(546): # 546 nodes\n",
    "        gt.append(label[i+j*168])\n",
    "    y.append(gt)"
   ]
  },
  {
   "cell_type": "code",
   "execution_count": null,
   "id": "ca8ce364",
   "metadata": {},
   "outputs": [],
   "source": [
    "y=np.array(y)\n",
    "y"
   ]
  },
  {
   "cell_type": "code",
   "execution_count": null,
   "id": "354c5391",
   "metadata": {},
   "outputs": [],
   "source": [
    "y.shape"
   ]
  },
  {
   "cell_type": "markdown",
   "id": "37a9d3a4",
   "metadata": {},
   "source": [
    "### Create key 'X'"
   ]
  },
  {
   "cell_type": "code",
   "execution_count": null,
   "id": "36b55000",
   "metadata": {},
   "outputs": [],
   "source": [
    "!ls"
   ]
  },
  {
   "cell_type": "code",
   "execution_count": null,
   "id": "fa81e687",
   "metadata": {},
   "outputs": [],
   "source": [
    "df_mapping=pd.read_csv('file_1_mapping_new.csv')\n",
    "df_mapping"
   ]
  },
  {
   "cell_type": "code",
   "execution_count": null,
   "id": "1dff50df",
   "metadata": {},
   "outputs": [],
   "source": [
    "# replace NaN values with an empty string\n",
    "df_mapping=df_mapping.fillna('')\n",
    "df_mapping"
   ]
  },
  {
   "cell_type": "code",
   "execution_count": null,
   "id": "5aecabc5",
   "metadata": {},
   "outputs": [],
   "source": [
    "df_file_3_feature=pd.read_csv('file_3_feature.csv')\n",
    "df_file_3_feature"
   ]
  },
  {
   "cell_type": "code",
   "execution_count": null,
   "id": "0275db8b",
   "metadata": {},
   "outputs": [],
   "source": [
    "# replace NaN values with an empty string\n",
    "df_file_3_feature=df_file_3_feature.fillna('')\n",
    "df_file_3_feature"
   ]
  },
  {
   "cell_type": "code",
   "execution_count": null,
   "id": "c5f78fa3",
   "metadata": {},
   "outputs": [],
   "source": [
    "# align to the order of file_1_mapping\n",
    "# df_file_1_mapping LEFT JOIN df_file_3_feature\n",
    "df_file_3_feature=pd.merge(df_mapping, df_file_3_feature, how='left', on=['fac_no', 'code_no', 'fac_type', 'fac_name'])\n",
    "df_file_3_feature"
   ]
  },
  {
   "cell_type": "code",
   "execution_count": null,
   "id": "9a9beb1e",
   "metadata": {},
   "outputs": [],
   "source": [
    "df_file_3_feature=df_file_3_feature.drop(['fac_no', 'code_no', 'fac_type', 'fac_name'], axis=1)\n",
    "df_file_3_feature"
   ]
  },
  {
   "cell_type": "code",
   "execution_count": null,
   "id": "e4319d24",
   "metadata": {},
   "outputs": [],
   "source": [
    "X=df_file_3_feature.to_numpy()\n",
    "X"
   ]
  },
  {
   "cell_type": "code",
   "execution_count": null,
   "id": "9f0e680e",
   "metadata": {},
   "outputs": [],
   "source": [
    "X=np.transpose(X)\n",
    "X"
   ]
  },
  {
   "cell_type": "code",
   "execution_count": null,
   "id": "524eb366",
   "metadata": {},
   "outputs": [],
   "source": [
    "X.shape"
   ]
  },
  {
   "cell_type": "code",
   "execution_count": null,
   "id": "5f2dd236",
   "metadata": {},
   "outputs": [],
   "source": [
    "for i in range(168):\n",
    "    for j in range(546):\n",
    "        X[i][j]=X[i][j].split(',')\n",
    "        \n",
    "X"
   ]
  },
  {
   "cell_type": "code",
   "execution_count": null,
   "id": "648b35c7",
   "metadata": {},
   "outputs": [],
   "source": [
    "for i in range(168):\n",
    "    for j in range(546):\n",
    "        X[i][j]=['0' if e=='' else e for e in X[i][j]]\n",
    "        X[i][j]=[float(e) for e in X[i][j]]\n",
    "        \n",
    "X"
   ]
  },
  {
   "cell_type": "code",
   "execution_count": null,
   "id": "b0f4fb8d",
   "metadata": {},
   "outputs": [],
   "source": [
    "for i in range(168):\n",
    "    for j in range(546):\n",
    "        X[i][j]=np.array(X[i][j])\n",
    "        \n",
    "X"
   ]
  },
  {
   "cell_type": "code",
   "execution_count": null,
   "id": "9f882224",
   "metadata": {},
   "outputs": [],
   "source": [
    "X.shape"
   ]
  },
  {
   "cell_type": "code",
   "execution_count": null,
   "id": "52b1f783",
   "metadata": {},
   "outputs": [],
   "source": [
    "# set missing value\n",
    "X[42][543]=np.array([0.0, 0.0, 0.0, 0.0, 0.0])"
   ]
  },
  {
   "cell_type": "code",
   "execution_count": null,
   "id": "af3312df",
   "metadata": {},
   "outputs": [],
   "source": [
    "X[42][543]"
   ]
  },
  {
   "cell_type": "code",
   "execution_count": null,
   "id": "70c6975b",
   "metadata": {},
   "outputs": [],
   "source": [
    "ans=[]\n",
    "\n",
    "for i in range(168):\n",
    "    ans.append(np.stack(tuple(X[i][j] for j in range(546)), axis=0))"
   ]
  },
  {
   "cell_type": "code",
   "execution_count": null,
   "id": "5aea0b55",
   "metadata": {
    "scrolled": true
   },
   "outputs": [],
   "source": [
    "ans"
   ]
  },
  {
   "cell_type": "code",
   "execution_count": null,
   "id": "b2483c76",
   "metadata": {},
   "outputs": [],
   "source": [
    "ans=np.array(ans)"
   ]
  },
  {
   "cell_type": "code",
   "execution_count": null,
   "id": "57e57913",
   "metadata": {},
   "outputs": [],
   "source": [
    "ans.shape"
   ]
  },
  {
   "cell_type": "code",
   "execution_count": null,
   "id": "92fff0fa",
   "metadata": {
    "scrolled": false
   },
   "outputs": [],
   "source": [
    "ans[0]"
   ]
  },
  {
   "cell_type": "code",
   "execution_count": null,
   "id": "e7232ce9",
   "metadata": {},
   "outputs": [],
   "source": [
    "np.stack(tuple(X[0][i] for i in range(546)), axis=0)"
   ]
  },
  {
   "cell_type": "markdown",
   "id": "c5ac96ec",
   "metadata": {},
   "source": [
    "## Create dictionary"
   ]
  },
  {
   "cell_type": "code",
   "execution_count": null,
   "id": "f9067d5c",
   "metadata": {},
   "outputs": [],
   "source": [
    "outer_dict={}\n",
    "\n",
    "for i in range(168): # 168 time periods\n",
    "    inner_dict={}\n",
    "    \n",
    "    inner_dict['index']=i\n",
    "    inner_dict['edges']=edges\n",
    "    inner_dict['weights']=weights[i]\n",
    "    inner_dict['y']=y[i]\n",
    "    inner_dict['X']=ans[i]\n",
    "    \n",
    "    outer_dict[str(i)]=inner_dict\n",
    "    \n",
    "outer_dict"
   ]
  },
  {
   "cell_type": "code",
   "execution_count": null,
   "id": "9abb95fa",
   "metadata": {
    "scrolled": true
   },
   "outputs": [],
   "source": [
    "outer_dict['time_periods']=168\n",
    "outer_dict['node_ids']=node_ids\n",
    "\n",
    "outer_dict"
   ]
  },
  {
   "cell_type": "code",
   "execution_count": null,
   "id": "be582c30",
   "metadata": {},
   "outputs": [],
   "source": [
    "type(outer_dict)"
   ]
  },
  {
   "cell_type": "code",
   "execution_count": null,
   "id": "0a9cd600",
   "metadata": {},
   "outputs": [],
   "source": [
    "# convert from Python to JSON\n",
    "# I found the best solution if you have nested numpy arrays in a dictionary:\n",
    "import json\n",
    "\n",
    "class NumpyEncoder(json.JSONEncoder):\n",
    "    \"\"\" Special json encoder for numpy types \"\"\"\n",
    "    def default(self, obj):\n",
    "        if isinstance(obj, np.integer):\n",
    "            return int(obj)\n",
    "        elif isinstance(obj, np.floating):\n",
    "            return float(obj)\n",
    "        elif isinstance(obj, np.ndarray):\n",
    "            return obj.tolist()\n",
    "        return json.JSONEncoder.default(self, obj)"
   ]
  },
  {
   "cell_type": "code",
   "execution_count": null,
   "id": "2740df2d",
   "metadata": {},
   "outputs": [],
   "source": [
    "with open('output.json', 'w', encoding='utf8') as f:\n",
    "    json.dump(outer_dict, f, ensure_ascii=False, cls=NumpyEncoder)"
   ]
  },
  {
   "cell_type": "code",
   "execution_count": null,
   "id": "69253297",
   "metadata": {},
   "outputs": [],
   "source": []
  }
 ],
 "metadata": {
  "kernelspec": {
   "display_name": "Python 3 (ipykernel)",
   "language": "python",
   "name": "python3"
  },
  "language_info": {
   "codemirror_mode": {
    "name": "ipython",
    "version": 3
   },
   "file_extension": ".py",
   "mimetype": "text/x-python",
   "name": "python",
   "nbconvert_exporter": "python",
   "pygments_lexer": "ipython3",
   "version": "3.9.12"
  },
  "toc": {
   "base_numbering": 1,
   "nav_menu": {},
   "number_sections": true,
   "sideBar": true,
   "skip_h1_title": false,
   "title_cell": "Table of Contents",
   "title_sidebar": "Contents",
   "toc_cell": false,
   "toc_position": {},
   "toc_section_display": true,
   "toc_window_display": false
  }
 },
 "nbformat": 4,
 "nbformat_minor": 5
}
